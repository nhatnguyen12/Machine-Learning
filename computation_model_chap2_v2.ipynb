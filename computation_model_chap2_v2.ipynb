{
    "metadata": {
        "kernelspec": {
            "name": "python3-spark21", 
            "language": "python", 
            "display_name": "Python 3.5 (Experimental) with Spark 2.1"
        }
    }, 
    "nbformat": 4, 
    "nbformat_minor": 1, 
    "cells": [
        {
            "execution_count": null, 
            "source": "import tensorflow as tf", 
            "metadata": {}, 
            "outputs": [], 
            "cell_type": "code"
        }, 
        {
            "execution_count": null, 
            "source": "with tf.Session() as session:\n    x = tf.placeholder(tf.float32, [1], name=\"x\")\n    y = tf.placeholder(tf.float32, [1], name=\"y\")\n    z = tf.constant(2.0)\n    y = x * z\nx_in = [100]\ny_output = session.run(y, {x: x_in})\nprint(y_output)", 
            "metadata": {}, 
            "outputs": [], 
            "cell_type": "code"
        }
    ]
}