{
    "nbformat_minor": 1, 
    "cells": [
        {
            "metadata": {}, 
            "source": "import tensorflow as tf\nimport numpy as np", 
            "execution_count": 1, 
            "cell_type": "code", 
            "outputs": []
        }, 
        {
            "metadata": {}, 
            "source": "tf.InteractiveSession()", 
            "execution_count": 2, 
            "cell_type": "code", 
            "outputs": [
                {
                    "data": {
                        "text/plain": "<tensorflow.python.client.session.InteractiveSession at 0x7efc7cf49b38>"
                    }, 
                    "metadata": {}, 
                    "execution_count": 2, 
                    "output_type": "execute_result"
                }
            ]
        }, 
        {
            "metadata": {}, 
            "source": "a = tf.zeros((2,2));\nb = tf.ones((2,2))", 
            "execution_count": 3, 
            "cell_type": "code", 
            "outputs": []
        }, 
        {
            "metadata": {}, 
            "source": "", 
            "execution_count": null, 
            "cell_type": "code", 
            "outputs": []
        }
    ], 
    "nbformat": 4, 
    "metadata": {
        "kernelspec": {
            "name": "python3-spark21", 
            "language": "python", 
            "display_name": "Python 3.5 (Experimental) with Spark 2.1"
        }, 
        "language_info": {
            "version": "3.5.2", 
            "name": "python", 
            "pygments_lexer": "ipython3", 
            "mimetype": "text/x-python", 
            "codemirror_mode": {
                "name": "ipython", 
                "version": 3
            }, 
            "file_extension": ".py", 
            "nbconvert_exporter": "python"
        }
    }
}