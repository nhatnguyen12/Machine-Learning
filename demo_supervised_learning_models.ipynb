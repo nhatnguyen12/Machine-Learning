{
    "nbformat": 4, 
    "metadata": {
        "language_info": {
            "pygments_lexer": "ipython3", 
            "file_extension": ".py", 
            "mimetype": "text/x-python", 
            "nbconvert_exporter": "python", 
            "codemirror_mode": {
                "name": "ipython", 
                "version": 3
            }, 
            "version": "3.5.2", 
            "name": "python"
        }, 
        "kernelspec": {
            "name": "python3-spark21", 
            "language": "python", 
            "display_name": "Python 3.5 (Experimental) with Spark 2.1"
        }
    }, 
    "cells": [
        {
            "outputs": [], 
            "source": "import tensorflow as tf\nimport numpy as np", 
            "execution_count": 1, 
            "cell_type": "code", 
            "metadata": {}
        }, 
        {
            "outputs": [
                {
                    "output_type": "execute_result", 
                    "execution_count": 2, 
                    "data": {
                        "text/plain": "<tensorflow.python.client.session.InteractiveSession at 0x7efc7cf49b38>"
                    }, 
                    "metadata": {}
                }
            ], 
            "source": "tf.InteractiveSession()", 
            "execution_count": 2, 
            "cell_type": "code", 
            "metadata": {}
        }, 
        {
            "outputs": [], 
            "source": "a = tf.zeros((2,2));\nb = tf.ones((2,2))", 
            "execution_count": 3, 
            "cell_type": "code", 
            "metadata": {}
        }, 
        {
            "outputs": [], 
            "source": "", 
            "execution_count": null, 
            "cell_type": "code", 
            "metadata": {}
        }
    ], 
    "nbformat_minor": 1
}