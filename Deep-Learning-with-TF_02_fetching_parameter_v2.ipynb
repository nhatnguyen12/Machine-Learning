{
    "nbformat": 4, 
    "nbformat_minor": 1, 
    "cells": [
        {
            "execution_count": 1, 
            "metadata": {}, 
            "outputs": [], 
            "cell_type": "code", 
            "source": "import tensorflow as tf"
        }, 
        {
            "execution_count": 5, 
            "metadata": {}, 
            "outputs": [
                {
                    "output_type": "stream", 
                    "name": "stdout", 
                    "text": "[300, 300]\n\n\n600\n"
                }
            ], 
            "cell_type": "code", 
            "source": "a = tf.constant(100)\nb = tf.constant(200)\nc = tf.constant (3)\n\nsum_ = tf.add(a, b)\nmul_ = tf.multiply(a , c)\ntotal = tf.add(sum_, mul_)\n\nwith tf.Session() as sess:\n    result1 = sess.run([sum_, mul_])\n    result2 = sess.run(total)\n    print(result1)\n    print('\\n')\n    print(result2)\n"
        }, 
        {
            "execution_count": null, 
            "metadata": {}, 
            "outputs": [], 
            "cell_type": "code", 
            "source": ""
        }
    ], 
    "metadata": {
        "language_info": {
            "pygments_lexer": "ipython2", 
            "mimetype": "text/x-python", 
            "version": "2.7.11", 
            "codemirror_mode": {
                "name": "ipython", 
                "version": 2
            }, 
            "name": "python", 
            "file_extension": ".py", 
            "nbconvert_exporter": "python"
        }, 
        "kernelspec": {
            "language": "python", 
            "display_name": "Python 2 with Spark 2.1", 
            "name": "python2-spark21"
        }
    }
}