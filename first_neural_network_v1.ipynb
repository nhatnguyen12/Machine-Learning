{
    "nbformat": 4, 
    "nbformat_minor": 1, 
    "cells": [
        {
            "source": "import keras", 
            "metadata": {}, 
            "outputs": [
                {
                    "output_type": "stream", 
                    "text": "Using TensorFlow backend.\n", 
                    "name": "stderr"
                }
            ], 
            "cell_type": "code", 
            "execution_count": 1
        }, 
        {
            "source": "keras.__version__", 
            "metadata": {}, 
            "outputs": [
                {
                    "data": {
                        "text/plain": "'2.0.5'"
                    }, 
                    "execution_count": 2, 
                    "output_type": "execute_result", 
                    "metadata": {}
                }
            ], 
            "cell_type": "code", 
            "execution_count": 2
        }, 
        {
            "source": "from keras.datasets import mnist", 
            "metadata": {}, 
            "outputs": [], 
            "cell_type": "code", 
            "execution_count": 3
        }, 
        {
            "source": "(train_images,train_labels), (test_images, test_labels) = mnist.load_data()", 
            "metadata": {}, 
            "outputs": [
                {
                    "output_type": "stream", 
                    "text": "Downloading data from https://s3.amazonaws.com/img-datasets/mnist.npz\n11354112/11490434 [============================>.] - ETA: 0s", 
                    "name": "stdout"
                }
            ], 
            "cell_type": "code", 
            "execution_count": 5
        }, 
        {
            "source": "train_images.shape", 
            "metadata": {}, 
            "outputs": [
                {
                    "data": {
                        "text/plain": "(60000, 28, 28)"
                    }, 
                    "execution_count": 7, 
                    "output_type": "execute_result", 
                    "metadata": {}
                }
            ], 
            "cell_type": "code", 
            "execution_count": 7
        }, 
        {
            "source": "len(train_images)", 
            "metadata": {}, 
            "outputs": [
                {
                    "data": {
                        "text/plain": "60000"
                    }, 
                    "execution_count": 8, 
                    "output_type": "execute_result", 
                    "metadata": {}
                }
            ], 
            "cell_type": "code", 
            "execution_count": 8
        }, 
        {
            "source": "train_labels", 
            "metadata": {}, 
            "outputs": [
                {
                    "data": {
                        "text/plain": "array([5, 0, 4, ..., 5, 6, 8], dtype=uint8)"
                    }, 
                    "execution_count": 10, 
                    "output_type": "execute_result", 
                    "metadata": {}
                }
            ], 
            "cell_type": "code", 
            "execution_count": 10
        }, 
        {
            "source": "test_images.shape", 
            "metadata": {}, 
            "outputs": [
                {
                    "data": {
                        "text/plain": "(10000, 28, 28)"
                    }, 
                    "execution_count": 11, 
                    "output_type": "execute_result", 
                    "metadata": {}
                }
            ], 
            "cell_type": "code", 
            "execution_count": 11
        }, 
        {
            "source": "from keras import models\nfrom keras import layers", 
            "metadata": {}, 
            "outputs": [], 
            "cell_type": "code", 
            "execution_count": 12
        }, 
        {
            "source": "network = models.Sequential()\nnetwork.add(layers.Dense(512, activation = 'relu', input_shape=(28*28,)))\nnetwork.add(layers.Dense(512, activation = 'relu',))\nnetwork.add(layers.Dense(10, activation = 'softmax'))", 
            "metadata": {}, 
            "outputs": [], 
            "cell_type": "code", 
            "execution_count": 17
        }, 
        {
            "source": "network.compile(optimizer='rmsprop',\n                loss='categorical_crossentropy',\n                metrics=['accuracy'])\n                               ", 
            "metadata": {}, 
            "outputs": [], 
            "cell_type": "code", 
            "execution_count": 19
        }, 
        {
            "source": "train_images = train_images.reshape(60000,28*28)\ntrain_images = train_images.astype('float32')/255\n\ntest_images = test_images.reshape(10000,28*28)\ntest_images = test_images.astype('float32')/255", 
            "metadata": {}, 
            "outputs": [], 
            "cell_type": "code", 
            "execution_count": 22
        }, 
        {
            "source": "train_images.shape", 
            "metadata": {}, 
            "outputs": [
                {
                    "data": {
                        "text/plain": "(60000, 784)"
                    }, 
                    "execution_count": 24, 
                    "output_type": "execute_result", 
                    "metadata": {}
                }
            ], 
            "cell_type": "code", 
            "execution_count": 24
        }, 
        {
            "source": "train_images", 
            "metadata": {}, 
            "outputs": [
                {
                    "data": {
                        "text/plain": "array([[ 0.,  0.,  0., ...,  0.,  0.,  0.],\n       [ 0.,  0.,  0., ...,  0.,  0.,  0.],\n       [ 0.,  0.,  0., ...,  0.,  0.,  0.],\n       ..., \n       [ 0.,  0.,  0., ...,  0.,  0.,  0.],\n       [ 0.,  0.,  0., ...,  0.,  0.,  0.],\n       [ 0.,  0.,  0., ...,  0.,  0.,  0.]], dtype=float32)"
                    }, 
                    "execution_count": 25, 
                    "output_type": "execute_result", 
                    "metadata": {}
                }
            ], 
            "cell_type": "code", 
            "execution_count": 25
        }, 
        {
            "source": "from keras.utils import to_categorical\n\ntrain_labels = to_categorical(train_labels)\ntest_labels = to_categorical(test_labels)", 
            "metadata": {}, 
            "outputs": [], 
            "cell_type": "code", 
            "execution_count": 26
        }, 
        {
            "source": "network.fit(train_images, train_labels, epochs=5, batch_size=128)\n", 
            "metadata": {}, 
            "outputs": [
                {
                    "output_type": "stream", 
                    "text": "Epoch 1/5\n60000/60000 [==============================] - 11s - loss: 0.2218 - acc: 0.9311    - ETA: 0s - loss: 0.2296 -\nEpoch 2/5\n60000/60000 [==============================] - 11s - loss: 0.0818 - acc: 0.9747    \nEpoch 3/5\n60000/60000 [==============================] - 11s - loss: 0.0554 - acc: 0.9830    \nEpoch 4/5\n60000/60000 [==============================] - 11s - loss: 0.0390 - acc: 0.9880    \nEpoch 5/5\n60000/60000 [==============================] - 11s - loss: 0.0288 - acc: 0.9910    \n", 
                    "name": "stdout"
                }, 
                {
                    "data": {
                        "text/plain": "<keras.callbacks.History at 0x7efc81783fd0>"
                    }, 
                    "execution_count": 27, 
                    "output_type": "execute_result", 
                    "metadata": {}
                }
            ], 
            "cell_type": "code", 
            "execution_count": 27
        }, 
        {
            "source": "test_loss, test_acc = network.evaluate(test_images, test_labels)", 
            "metadata": {}, 
            "outputs": [
                {
                    "output_type": "stream", 
                    "text": " 9888/10000 [============================>.] - ETA: 0s", 
                    "name": "stdout"
                }
            ], 
            "cell_type": "code", 
            "execution_count": 28
        }, 
        {
            "source": "print(test_loss)", 
            "metadata": {}, 
            "outputs": [
                {
                    "output_type": "stream", 
                    "text": "0.140053323762\n", 
                    "name": "stdout"
                }
            ], 
            "cell_type": "code", 
            "execution_count": 29
        }, 
        {
            "source": "print(test_acc)", 
            "metadata": {}, 
            "outputs": [
                {
                    "output_type": "stream", 
                    "text": "0.9681\n", 
                    "name": "stdout"
                }
            ], 
            "cell_type": "code", 
            "execution_count": 30
        }
    ], 
    "metadata": {
        "language_info": {
            "pygments_lexer": "ipython3", 
            "mimetype": "text/x-python", 
            "version": "3.5.2", 
            "codemirror_mode": {
                "name": "ipython", 
                "version": 3
            }, 
            "nbconvert_exporter": "python", 
            "file_extension": ".py", 
            "name": "python"
        }, 
        "kernelspec": {
            "language": "python", 
            "display_name": "Python 3.5 (Experimental) with Spark 2.1", 
            "name": "python3-spark21"
        }
    }
}